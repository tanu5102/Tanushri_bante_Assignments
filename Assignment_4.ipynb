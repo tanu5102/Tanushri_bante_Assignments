{
  "cells": [
    {
      "cell_type": "markdown",
      "id": "226ba824-abf6-4254-8f91-02f86eab0087",
      "metadata": {
        "id": "226ba824-abf6-4254-8f91-02f86eab0087"
      },
      "source": [
        "Assignment-4 : HYPOTHESIS TESTING"
      ]
    },
    {
      "cell_type": "code",
      "execution_count": null,
      "id": "880b85a9-aabd-4e99-901a-c27279342925",
      "metadata": {
        "id": "880b85a9-aabd-4e99-901a-c27279342925"
      },
      "outputs": [],
      "source": [
        "import numpy as np\n",
        "from scipy.stats import t"
      ]
    },
    {
      "cell_type": "markdown",
      "id": "0c488efc-e0e6-4e7f-a78e-500608e196e9",
      "metadata": {
        "id": "0c488efc-e0e6-4e7f-a78e-500608e196e9"
      },
      "source": [
        "step 1: state the Hypotheses statement\n",
        "Null Hypothesis(Ho): The mean weekly operating cost accrording to the theoretical model is accurate\n",
        "Alternative Hypothesis(H1):The mean weekly operating cost is higher than what the theoretical model predicts\n"
      ]
    },
    {
      "cell_type": "markdown",
      "id": "9d7eb49f-6c9a-4bb3-88bb-bf506fbe3606",
      "metadata": {
        "id": "9d7eb49f-6c9a-4bb3-88bb-bf506fbe3606"
      },
      "source": [
        "step 2: calculate the Test statistic"
      ]
    },
    {
      "cell_type": "code",
      "execution_count": null,
      "id": "c68d9e9b-290a-416f-affc-f59b458b8566",
      "metadata": {
        "id": "c68d9e9b-290a-416f-affc-f59b458b8566",
        "outputId": "701c4ee9-e436-47f5-f500-410e8201dd33"
      },
      "outputs": [
        {
          "data": {
            "text/plain": [
              "-38.0"
            ]
          },
          "execution_count": 7,
          "metadata": {},
          "output_type": "execute_result"
        }
      ],
      "source": [
        "sample_mean = 3050  # sample mean weekly cost (Rs. 3,050)\n",
        "theoretical_mean = 1000 + 5 * 600  # theoretical mean weekly cost according to the model\n",
        "standard_deviation = 5 * 25  # standard deviation\n",
        "sample_size = 25  # sample size\n",
        "\n",
        "# Calculate the test statistic (t)\n",
        "t_statistic = (sample_mean - theoretical_mean) / (standard_deviation / np.sqrt(sample_size))\n",
        "t_statistic"
      ]
    },
    {
      "cell_type": "markdown",
      "id": "c31acc34-e087-43ae-a16b-13b5cd00361e",
      "metadata": {
        "id": "c31acc34-e087-43ae-a16b-13b5cd00361e"
      },
      "source": [
        "Step 3: Determine the Critical Value"
      ]
    },
    {
      "cell_type": "code",
      "execution_count": null,
      "id": "98800226-0226-4893-9102-bfef41159030",
      "metadata": {
        "id": "98800226-0226-4893-9102-bfef41159030",
        "outputId": "fa2b8119-9e3c-49fd-93d8-ea8cdd6938de"
      },
      "outputs": [
        {
          "data": {
            "text/plain": [
              "1.7108820799094275"
            ]
          },
          "execution_count": 5,
          "metadata": {},
          "output_type": "execute_result"
        }
      ],
      "source": [
        "alpha = 0.05  # significance level\n",
        "\n",
        "# Degrees of freedom (df) = sample_size - 1\n",
        "df = sample_size - 1\n",
        "\n",
        "# Calculate the critical value from the t-distribution\n",
        "critical_value = t.ppf(1 - alpha, df)\n",
        "critical_value"
      ]
    },
    {
      "cell_type": "markdown",
      "id": "308bf59b-d650-4121-aef1-a7524a6af436",
      "metadata": {
        "id": "308bf59b-d650-4121-aef1-a7524a6af436"
      },
      "source": [
        "Make a Decision\n",
        "Decision Rule: If t_statistic > critical_value, reject H0; otherwise, fail to reject H0."
      ]
    },
    {
      "cell_type": "code",
      "execution_count": null,
      "id": "d75514e2-c9fc-409a-bff1-89419301177f",
      "metadata": {
        "id": "d75514e2-c9fc-409a-bff1-89419301177f",
        "outputId": "e2a1bc7e-3c1f-4d82-9d63-cc3bb489933b"
      },
      "outputs": [
        {
          "name": "stdout",
          "output_type": "stream",
          "text": [
            "Fail to reject the null hypothesis: There is not enough evidence to support the claim that the weekly operating costs are higher than the model suggests.\n"
          ]
        }
      ],
      "source": [
        "if t_statistic > critical_value:\n",
        "    print(\"Reject the null hypothesis: There is strong evidence to support the claim that the weekly operating costs are higher than the model suggests.\")\n",
        "else:\n",
        "    print(\"Fail to reject the null hypothesis: There is not enough evidence to support the claim that the weekly operating costs are higher than the model suggests.\")\n"
      ]
    },
    {
      "cell_type": "markdown",
      "id": "dd00aa0b-efb8-4a35-a6ca-f7e4ac76e09c",
      "metadata": {
        "id": "dd00aa0b-efb8-4a35-a6ca-f7e4ac76e09c"
      },
      "source": [
        "step 5:Conclusion\n",
        "Based on the critical value we fail to reject the null hypothesis.There is not enough evidence to support the claim that the weekly operating costs are higher than the model suggests.\n"
      ]
    }
  ],
  "metadata": {
    "kernelspec": {
      "display_name": "Python 3 (ipykernel)",
      "language": "python",
      "name": "python3"
    },
    "language_info": {
      "codemirror_mode": {
        "name": "ipython",
        "version": 3
      },
      "file_extension": ".py",
      "mimetype": "text/x-python",
      "name": "python",
      "nbconvert_exporter": "python",
      "pygments_lexer": "ipython3",
      "version": "3.11.7"
    },
    "colab": {
      "provenance": []
    }
  },
  "nbformat": 4,
  "nbformat_minor": 5
}