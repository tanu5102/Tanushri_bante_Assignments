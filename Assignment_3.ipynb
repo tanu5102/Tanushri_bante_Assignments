{
  "cells": [
    {
      "cell_type": "markdown",
      "id": "7cc75c52-10db-4906-94a9-cd092ec8c300",
      "metadata": {
        "id": "7cc75c52-10db-4906-94a9-cd092ec8c300"
      },
      "source": [
        "# a. Build 99% Confidence Interval Using Sample Standard Deviation"
      ]
    },
    {
      "cell_type": "code",
      "execution_count": null,
      "id": "77e46e60-d3e6-4273-8c80-4f2738a65093",
      "metadata": {
        "id": "77e46e60-d3e6-4273-8c80-4f2738a65093",
        "outputId": "5cc0446d-6270-4228-a0af-f512c33a8435"
      },
      "outputs": [
        {
          "name": "stdout",
          "output_type": "stream",
          "text": [
            "Sample Mean: 1.24\n",
            "Sample Standard Deviation: 0.19\n",
            "Degrees of Freedom: 14\n",
            "Critical t-value: 2.977\n",
            "Margin of Error: 0.148\n",
            "99% Confidence Interval: (1.090, 1.387)\n"
          ]
        }
      ],
      "source": [
        "import numpy as np\n",
        "from scipy.stats import t\n",
        "data = np.array([1.13, 1.55, 1.43, 0.92, 1.25, 1.36, 1.32, 0.85, 1.07, 1.48, 1.20, 1.33, 1.18, 1.22, 1.29])\n",
        "sample_mean = np.mean(data)\n",
        "sample_std = np.std(data, ddof=1)  # ddof=1 for sample standard deviation\n",
        "n = len(data)\n",
        "df = n - 1\n",
        "confidence_level = 0.99\n",
        "alpha = 1 - confidence_level\n",
        "t_critical = t.ppf(1 - alpha/2, df)\n",
        "margin_of_error = t_critical * (sample_std / np.sqrt(n))\n",
        "lower_bound = sample_mean - margin_of_error\n",
        "upper_bound = sample_mean + margin_of_error\n",
        "print(f\"Sample Mean: {sample_mean:.2f}\")\n",
        "print(f\"Sample Standard Deviation: {sample_std:.2f}\")\n",
        "print(f\"Degrees of Freedom: {df}\")\n",
        "print(f\"Critical t-value: {t_critical:.3f}\")\n",
        "print(f\"Margin of Error: {margin_of_error:.3f}\")\n",
        "print(f\"99% Confidence Interval: ({lower_bound:.3f}, {upper_bound:.3f})\")\n"
      ]
    },
    {
      "cell_type": "markdown",
      "id": "28b3af9d-1acd-4d20-ab66-b043dfa3eae5",
      "metadata": {
        "id": "28b3af9d-1acd-4d20-ab66-b043dfa3eae5"
      },
      "source": [
        "# b. Build 99% Confidence Interval Using Known Population Standard Deviation"
      ]
    },
    {
      "cell_type": "code",
      "execution_count": null,
      "id": "8148d2b7-e5aa-4473-8a49-3babfc2ddff2",
      "metadata": {
        "id": "8148d2b7-e5aa-4473-8a49-3babfc2ddff2",
        "outputId": "e5fd8353-1f65-4d29-9ea9-341ac0c718fe"
      },
      "outputs": [
        {
          "name": "stdout",
          "output_type": "stream",
          "text": [
            "Sample Mean: 1.24\n",
            "Population Standard Deviation (known): 5.00\n",
            "Sample Size: 15\n",
            "Critical z-value: 2.576\n",
            "Margin of Error: 3.325\n",
            "99% Confidence Interval: (-2.087, 4.564)\n"
          ]
        }
      ],
      "source": [
        "import numpy as np\n",
        "from scipy.stats import norm\n",
        "data = np.array([1.13, 1.55, 1.43, 0.92, 1.25, 1.36, 1.32, 0.85, 1.07, 1.48, 1.20, 1.33, 1.18, 1.22, 1.29])\n",
        "population_std = 5.0\n",
        "sample_mean = np.mean(data)\n",
        "n = len(data)\n",
        "confidence_level = 0.99\n",
        "alpha = 1 - confidence_level\n",
        "z_critical = norm.ppf(1 - alpha/2)\n",
        "margin_of_error = z_critical * (population_std / np.sqrt(n))\n",
        "lower_bound = sample_mean - margin_of_error\n",
        "upper_bound = sample_mean + margin_of_error\n",
        "print(f\"Sample Mean: {sample_mean:.2f}\")\n",
        "print(f\"Population Standard Deviation (known): {population_std:.2f}\")\n",
        "print(f\"Sample Size: {n}\")\n",
        "print(f\"Critical z-value: {z_critical:.3f}\")\n",
        "print(f\"Margin of Error: {margin_of_error:.3f}\")\n",
        "print(f\"99% Confidence Interval: ({lower_bound:.3f}, {upper_bound:.3f})\")\n"
      ]
    },
    {
      "cell_type": "code",
      "execution_count": null,
      "id": "41bca043-54c5-4f49-b37d-ba7c9bf539a1",
      "metadata": {
        "id": "41bca043-54c5-4f49-b37d-ba7c9bf539a1"
      },
      "outputs": [],
      "source": []
    }
  ],
  "metadata": {
    "kernelspec": {
      "display_name": "Python 3 (ipykernel)",
      "language": "python",
      "name": "python3"
    },
    "language_info": {
      "codemirror_mode": {
        "name": "ipython",
        "version": 3
      },
      "file_extension": ".py",
      "mimetype": "text/x-python",
      "name": "python",
      "nbconvert_exporter": "python",
      "pygments_lexer": "ipython3",
      "version": "3.11.7"
    },
    "colab": {
      "provenance": []
    }
  },
  "nbformat": 4,
  "nbformat_minor": 5
}