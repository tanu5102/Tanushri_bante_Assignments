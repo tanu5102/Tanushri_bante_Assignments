{
  "cells": [
    {
      "cell_type": "markdown",
      "id": "93921084-381e-4f3a-b177-49d22206ff71",
      "metadata": {
        "id": "93921084-381e-4f3a-b177-49d22206ff71"
      },
      "source": [
        "Naive Bayes"
      ]
    },
    {
      "cell_type": "markdown",
      "id": "9e4215a6-b345-4867-8da4-8aa5ab86cc5c",
      "metadata": {
        "id": "9e4215a6-b345-4867-8da4-8aa5ab86cc5c"
      },
      "source": [
        "The Naive Bayes classifier is a probabilistic machine learning model used for classification tasks. It is based on Bayes' theorem, with the \"naive\" assumption that features (or predictors) are independent given the class. Despite this often unrealistic assumption of feature independence, Naive Bayes classifiers perform surprisingly well in many real-world applications, particularly in text classification and natural language processing."
      ]
    },
    {
      "cell_type": "markdown",
      "id": "d24ea344-231f-4cba-812e-9092cd309cee",
      "metadata": {
        "id": "d24ea344-231f-4cba-812e-9092cd309cee"
      },
      "source": [
        "1. Data Exploration and Preprocessing"
      ]
    },
    {
      "cell_type": "code",
      "execution_count": null,
      "id": "0b5aeddf-054c-4a2d-8b6d-19a72776d206",
      "metadata": {
        "id": "0b5aeddf-054c-4a2d-8b6d-19a72776d206"
      },
      "outputs": [],
      "source": [
        "import pandas as pd\n",
        "import matplotlib.pyplot as plt\n",
        "import seaborn as sns"
      ]
    },
    {
      "cell_type": "code",
      "execution_count": null,
      "id": "q2i1Bqn_588_",
      "metadata": {
        "colab": {
          "background_save": true,
          "base_uri": "https://localhost:8080/",
          "height": 35
        },
        "id": "q2i1Bqn_588_",
        "outputId": "374a0f2b-168d-4190-8f7b-06b40ddf7711"
      },
      "outputs": [
        {
          "data": {
            "text/html": [
              "\n",
              "     <input type=\"file\" id=\"files-f6a208fe-f283-41b4-af98-73b789848d69\" name=\"files[]\" multiple disabled\n",
              "        style=\"border:none\" />\n",
              "     <output id=\"result-f6a208fe-f283-41b4-af98-73b789848d69\">\n",
              "      Upload widget is only available when the cell has been executed in the\n",
              "      current browser session. Please rerun this cell to enable.\n",
              "      </output>\n",
              "      <script>// Copyright 2017 Google LLC\n",
              "//\n",
              "// Licensed under the Apache License, Version 2.0 (the \"License\");\n",
              "// you may not use this file except in compliance with the License.\n",
              "// You may obtain a copy of the License at\n",
              "//\n",
              "//      http://www.apache.org/licenses/LICENSE-2.0\n",
              "//\n",
              "// Unless required by applicable law or agreed to in writing, software\n",
              "// distributed under the License is distributed on an \"AS IS\" BASIS,\n",
              "// WITHOUT WARRANTIES OR CONDITIONS OF ANY KIND, either express or implied.\n",
              "// See the License for the specific language governing permissions and\n",
              "// limitations under the License.\n",
              "\n",
              "/**\n",
              " * @fileoverview Helpers for google.colab Python module.\n",
              " */\n",
              "(function(scope) {\n",
              "function span(text, styleAttributes = {}) {\n",
              "  const element = document.createElement('span');\n",
              "  element.textContent = text;\n",
              "  for (const key of Object.keys(styleAttributes)) {\n",
              "    element.style[key] = styleAttributes[key];\n",
              "  }\n",
              "  return element;\n",
              "}\n",
              "\n",
              "// Max number of bytes which will be uploaded at a time.\n",
              "const MAX_PAYLOAD_SIZE = 100 * 1024;\n",
              "\n",
              "function _uploadFiles(inputId, outputId) {\n",
              "  const steps = uploadFilesStep(inputId, outputId);\n",
              "  const outputElement = document.getElementById(outputId);\n",
              "  // Cache steps on the outputElement to make it available for the next call\n",
              "  // to uploadFilesContinue from Python.\n",
              "  outputElement.steps = steps;\n",
              "\n",
              "  return _uploadFilesContinue(outputId);\n",
              "}\n",
              "\n",
              "// This is roughly an async generator (not supported in the browser yet),\n",
              "// where there are multiple asynchronous steps and the Python side is going\n",
              "// to poll for completion of each step.\n",
              "// This uses a Promise to block the python side on completion of each step,\n",
              "// then passes the result of the previous step as the input to the next step.\n",
              "function _uploadFilesContinue(outputId) {\n",
              "  const outputElement = document.getElementById(outputId);\n",
              "  const steps = outputElement.steps;\n",
              "\n",
              "  const next = steps.next(outputElement.lastPromiseValue);\n",
              "  return Promise.resolve(next.value.promise).then((value) => {\n",
              "    // Cache the last promise value to make it available to the next\n",
              "    // step of the generator.\n",
              "    outputElement.lastPromiseValue = value;\n",
              "    return next.value.response;\n",
              "  });\n",
              "}\n",
              "\n",
              "/**\n",
              " * Generator function which is called between each async step of the upload\n",
              " * process.\n",
              " * @param {string} inputId Element ID of the input file picker element.\n",
              " * @param {string} outputId Element ID of the output display.\n",
              " * @return {!Iterable<!Object>} Iterable of next steps.\n",
              " */\n",
              "function* uploadFilesStep(inputId, outputId) {\n",
              "  const inputElement = document.getElementById(inputId);\n",
              "  inputElement.disabled = false;\n",
              "\n",
              "  const outputElement = document.getElementById(outputId);\n",
              "  outputElement.innerHTML = '';\n",
              "\n",
              "  const pickedPromise = new Promise((resolve) => {\n",
              "    inputElement.addEventListener('change', (e) => {\n",
              "      resolve(e.target.files);\n",
              "    });\n",
              "  });\n",
              "\n",
              "  const cancel = document.createElement('button');\n",
              "  inputElement.parentElement.appendChild(cancel);\n",
              "  cancel.textContent = 'Cancel upload';\n",
              "  const cancelPromise = new Promise((resolve) => {\n",
              "    cancel.onclick = () => {\n",
              "      resolve(null);\n",
              "    };\n",
              "  });\n",
              "\n",
              "  // Wait for the user to pick the files.\n",
              "  const files = yield {\n",
              "    promise: Promise.race([pickedPromise, cancelPromise]),\n",
              "    response: {\n",
              "      action: 'starting',\n",
              "    }\n",
              "  };\n",
              "\n",
              "  cancel.remove();\n",
              "\n",
              "  // Disable the input element since further picks are not allowed.\n",
              "  inputElement.disabled = true;\n",
              "\n",
              "  if (!files) {\n",
              "    return {\n",
              "      response: {\n",
              "        action: 'complete',\n",
              "      }\n",
              "    };\n",
              "  }\n",
              "\n",
              "  for (const file of files) {\n",
              "    const li = document.createElement('li');\n",
              "    li.append(span(file.name, {fontWeight: 'bold'}));\n",
              "    li.append(span(\n",
              "        `(${file.type || 'n/a'}) - ${file.size} bytes, ` +\n",
              "        `last modified: ${\n",
              "            file.lastModifiedDate ? file.lastModifiedDate.toLocaleDateString() :\n",
              "                                    'n/a'} - `));\n",
              "    const percent = span('0% done');\n",
              "    li.appendChild(percent);\n",
              "\n",
              "    outputElement.appendChild(li);\n",
              "\n",
              "    const fileDataPromise = new Promise((resolve) => {\n",
              "      const reader = new FileReader();\n",
              "      reader.onload = (e) => {\n",
              "        resolve(e.target.result);\n",
              "      };\n",
              "      reader.readAsArrayBuffer(file);\n",
              "    });\n",
              "    // Wait for the data to be ready.\n",
              "    let fileData = yield {\n",
              "      promise: fileDataPromise,\n",
              "      response: {\n",
              "        action: 'continue',\n",
              "      }\n",
              "    };\n",
              "\n",
              "    // Use a chunked sending to avoid message size limits. See b/62115660.\n",
              "    let position = 0;\n",
              "    do {\n",
              "      const length = Math.min(fileData.byteLength - position, MAX_PAYLOAD_SIZE);\n",
              "      const chunk = new Uint8Array(fileData, position, length);\n",
              "      position += length;\n",
              "\n",
              "      const base64 = btoa(String.fromCharCode.apply(null, chunk));\n",
              "      yield {\n",
              "        response: {\n",
              "          action: 'append',\n",
              "          file: file.name,\n",
              "          data: base64,\n",
              "        },\n",
              "      };\n",
              "\n",
              "      let percentDone = fileData.byteLength === 0 ?\n",
              "          100 :\n",
              "          Math.round((position / fileData.byteLength) * 100);\n",
              "      percent.textContent = `${percentDone}% done`;\n",
              "\n",
              "    } while (position < fileData.byteLength);\n",
              "  }\n",
              "\n",
              "  // All done.\n",
              "  yield {\n",
              "    response: {\n",
              "      action: 'complete',\n",
              "    }\n",
              "  };\n",
              "}\n",
              "\n",
              "scope.google = scope.google || {};\n",
              "scope.google.colab = scope.google.colab || {};\n",
              "scope.google.colab._files = {\n",
              "  _uploadFiles,\n",
              "  _uploadFilesContinue,\n",
              "};\n",
              "})(self);\n",
              "</script> "
            ],
            "text/plain": [
              "<IPython.core.display.HTML object>"
            ]
          },
          "metadata": {},
          "output_type": "display_data"
        }
      ],
      "source": [
        "from google.colab import files\n",
        "uploaded = files.upload()"
      ]
    },
    {
      "cell_type": "code",
      "execution_count": null,
      "id": "4uNI9l9G59Ir",
      "metadata": {
        "id": "4uNI9l9G59Ir"
      },
      "outputs": [],
      "source": [
        "data=pd.read_csv('blogs_catogories')"
      ]
    },
    {
      "cell_type": "code",
      "execution_count": null,
      "id": "3e507e9c-9369-4b16-8b20-7c7ad13c09d3",
      "metadata": {
        "id": "3e507e9c-9369-4b16-8b20-7c7ad13c09d3",
        "outputId": "948bdc79-c9a3-4370-cdf7-dbac07edf956"
      },
      "outputs": [
        {
          "name": "stdout",
          "output_type": "stream",
          "text": [
            "<class 'pandas.core.frame.DataFrame'>\n",
            "RangeIndex: 19997 entries, 0 to 19996\n",
            "Data columns (total 3 columns):\n",
            " #   Column      Non-Null Count  Dtype \n",
            "---  ------      --------------  ----- \n",
            " 0   Unnamed: 0  19997 non-null  int64 \n",
            " 1   Data        19997 non-null  object\n",
            " 2   Labels      19997 non-null  object\n",
            "dtypes: int64(1), object(2)\n",
            "memory usage: 468.8+ KB\n"
          ]
        }
      ],
      "source": [
        "data.info()"
      ]
    },
    {
      "cell_type": "code",
      "execution_count": null,
      "id": "bc0ee1af-9925-4264-952f-25f5329295c8",
      "metadata": {
        "id": "bc0ee1af-9925-4264-952f-25f5329295c8",
        "outputId": "660932e6-0d32-4d1d-a999-40ba3a9e3779"
      },
      "outputs": [
        {
          "data": {
            "text/html": [
              "<div>\n",
              "<style scoped>\n",
              "    .dataframe tbody tr th:only-of-type {\n",
              "        vertical-align: middle;\n",
              "    }\n",
              "\n",
              "    .dataframe tbody tr th {\n",
              "        vertical-align: top;\n",
              "    }\n",
              "\n",
              "    .dataframe thead th {\n",
              "        text-align: right;\n",
              "    }\n",
              "</style>\n",
              "<table border=\"1\" class=\"dataframe\">\n",
              "  <thead>\n",
              "    <tr style=\"text-align: right;\">\n",
              "      <th></th>\n",
              "      <th>Unnamed: 0</th>\n",
              "    </tr>\n",
              "  </thead>\n",
              "  <tbody>\n",
              "    <tr>\n",
              "      <th>count</th>\n",
              "      <td>19997.000000</td>\n",
              "    </tr>\n",
              "    <tr>\n",
              "      <th>mean</th>\n",
              "      <td>9998.000000</td>\n",
              "    </tr>\n",
              "    <tr>\n",
              "      <th>std</th>\n",
              "      <td>5772.781002</td>\n",
              "    </tr>\n",
              "    <tr>\n",
              "      <th>min</th>\n",
              "      <td>0.000000</td>\n",
              "    </tr>\n",
              "    <tr>\n",
              "      <th>25%</th>\n",
              "      <td>4999.000000</td>\n",
              "    </tr>\n",
              "    <tr>\n",
              "      <th>50%</th>\n",
              "      <td>9998.000000</td>\n",
              "    </tr>\n",
              "    <tr>\n",
              "      <th>75%</th>\n",
              "      <td>14997.000000</td>\n",
              "    </tr>\n",
              "    <tr>\n",
              "      <th>max</th>\n",
              "      <td>19996.000000</td>\n",
              "    </tr>\n",
              "  </tbody>\n",
              "</table>\n",
              "</div>"
            ],
            "text/plain": [
              "         Unnamed: 0\n",
              "count  19997.000000\n",
              "mean    9998.000000\n",
              "std     5772.781002\n",
              "min        0.000000\n",
              "25%     4999.000000\n",
              "50%     9998.000000\n",
              "75%    14997.000000\n",
              "max    19996.000000"
            ]
          },
          "execution_count": 3,
          "metadata": {},
          "output_type": "execute_result"
        }
      ],
      "source": [
        "data.describe()"
      ]
    },
    {
      "cell_type": "code",
      "execution_count": null,
      "id": "66dd73ea-b141-4c24-94b4-7a1c2f183dd0",
      "metadata": {
        "id": "66dd73ea-b141-4c24-94b4-7a1c2f183dd0",
        "outputId": "fc025e5f-7643-445e-a0b2-41bcd12ea128"
      },
      "outputs": [
        {
          "data": {
            "text/plain": [
              "Unnamed: 0    0\n",
              "Data          0\n",
              "Labels        0\n",
              "dtype: int64"
            ]
          },
          "execution_count": 4,
          "metadata": {},
          "output_type": "execute_result"
        }
      ],
      "source": [
        "data.isnull().sum()"
      ]
    },
    {
      "cell_type": "code",
      "execution_count": null,
      "id": "78f6bc08-be87-4753-ae5e-4f2fbfa0993b",
      "metadata": {
        "id": "78f6bc08-be87-4753-ae5e-4f2fbfa0993b",
        "outputId": "edcae93e-f280-47f6-9194-e07e9bc34777"
      },
      "outputs": [
        {
          "data": {
            "text/html": [
              "<div>\n",
              "<style scoped>\n",
              "    .dataframe tbody tr th:only-of-type {\n",
              "        vertical-align: middle;\n",
              "    }\n",
              "\n",
              "    .dataframe tbody tr th {\n",
              "        vertical-align: top;\n",
              "    }\n",
              "\n",
              "    .dataframe thead th {\n",
              "        text-align: right;\n",
              "    }\n",
              "</style>\n",
              "<table border=\"1\" class=\"dataframe\">\n",
              "  <thead>\n",
              "    <tr style=\"text-align: right;\">\n",
              "      <th></th>\n",
              "      <th>Unnamed: 0</th>\n",
              "      <th>Data</th>\n",
              "      <th>Labels</th>\n",
              "    </tr>\n",
              "  </thead>\n",
              "  <tbody>\n",
              "  </tbody>\n",
              "</table>\n",
              "</div>"
            ],
            "text/plain": [
              "Empty DataFrame\n",
              "Columns: [Unnamed: 0, Data, Labels]\n",
              "Index: []"
            ]
          },
          "execution_count": 5,
          "metadata": {},
          "output_type": "execute_result"
        }
      ],
      "source": [
        "data[data.duplicated()]"
      ]
    },
    {
      "cell_type": "code",
      "execution_count": null,
      "id": "800cf567-51d8-4f64-a332-155f6a8f7fe1",
      "metadata": {
        "id": "800cf567-51d8-4f64-a332-155f6a8f7fe1",
        "outputId": "ba2ebc29-647c-4352-ced0-afaff38bfb04"
      },
      "outputs": [
        {
          "data": {
            "text/html": [
              "<div>\n",
              "<style scoped>\n",
              "    .dataframe tbody tr th:only-of-type {\n",
              "        vertical-align: middle;\n",
              "    }\n",
              "\n",
              "    .dataframe tbody tr th {\n",
              "        vertical-align: top;\n",
              "    }\n",
              "\n",
              "    .dataframe thead th {\n",
              "        text-align: right;\n",
              "    }\n",
              "</style>\n",
              "<table border=\"1\" class=\"dataframe\">\n",
              "  <thead>\n",
              "    <tr style=\"text-align: right;\">\n",
              "      <th></th>\n",
              "      <th>Unnamed: 0</th>\n",
              "      <th>Data</th>\n",
              "      <th>Labels</th>\n",
              "    </tr>\n",
              "  </thead>\n",
              "  <tbody>\n",
              "    <tr>\n",
              "      <th>0</th>\n",
              "      <td>0</td>\n",
              "      <td>Xref: cantaloupe.srv.cs.cmu.edu alt.atheism:49...</td>\n",
              "      <td>alt.atheism</td>\n",
              "    </tr>\n",
              "    <tr>\n",
              "      <th>1</th>\n",
              "      <td>1</td>\n",
              "      <td>Xref: cantaloupe.srv.cs.cmu.edu alt.atheism:51...</td>\n",
              "      <td>alt.atheism</td>\n",
              "    </tr>\n",
              "    <tr>\n",
              "      <th>2</th>\n",
              "      <td>2</td>\n",
              "      <td>Newsgroups: alt.atheism\\nPath: cantaloupe.srv....</td>\n",
              "      <td>alt.atheism</td>\n",
              "    </tr>\n",
              "    <tr>\n",
              "      <th>3</th>\n",
              "      <td>3</td>\n",
              "      <td>Xref: cantaloupe.srv.cs.cmu.edu alt.atheism:51...</td>\n",
              "      <td>alt.atheism</td>\n",
              "    </tr>\n",
              "    <tr>\n",
              "      <th>4</th>\n",
              "      <td>4</td>\n",
              "      <td>Xref: cantaloupe.srv.cs.cmu.edu alt.atheism:51...</td>\n",
              "      <td>alt.atheism</td>\n",
              "    </tr>\n",
              "    <tr>\n",
              "      <th>...</th>\n",
              "      <td>...</td>\n",
              "      <td>...</td>\n",
              "      <td>...</td>\n",
              "    </tr>\n",
              "    <tr>\n",
              "      <th>19992</th>\n",
              "      <td>19992</td>\n",
              "      <td>Xref: cantaloupe.srv.cs.cmu.edu alt.atheism:54...</td>\n",
              "      <td>talk.religion.misc</td>\n",
              "    </tr>\n",
              "    <tr>\n",
              "      <th>19993</th>\n",
              "      <td>19993</td>\n",
              "      <td>Xref: cantaloupe.srv.cs.cmu.edu alt.atheism:54...</td>\n",
              "      <td>talk.religion.misc</td>\n",
              "    </tr>\n",
              "    <tr>\n",
              "      <th>19994</th>\n",
              "      <td>19994</td>\n",
              "      <td>Xref: cantaloupe.srv.cs.cmu.edu talk.religion....</td>\n",
              "      <td>talk.religion.misc</td>\n",
              "    </tr>\n",
              "    <tr>\n",
              "      <th>19995</th>\n",
              "      <td>19995</td>\n",
              "      <td>Xref: cantaloupe.srv.cs.cmu.edu talk.religion....</td>\n",
              "      <td>talk.religion.misc</td>\n",
              "    </tr>\n",
              "    <tr>\n",
              "      <th>19996</th>\n",
              "      <td>19996</td>\n",
              "      <td>Xref: cantaloupe.srv.cs.cmu.edu talk.abortion:...</td>\n",
              "      <td>talk.religion.misc</td>\n",
              "    </tr>\n",
              "  </tbody>\n",
              "</table>\n",
              "<p>19997 rows × 3 columns</p>\n",
              "</div>"
            ],
            "text/plain": [
              "       Unnamed: 0                                               Data  \\\n",
              "0               0  Xref: cantaloupe.srv.cs.cmu.edu alt.atheism:49...   \n",
              "1               1  Xref: cantaloupe.srv.cs.cmu.edu alt.atheism:51...   \n",
              "2               2  Newsgroups: alt.atheism\\nPath: cantaloupe.srv....   \n",
              "3               3  Xref: cantaloupe.srv.cs.cmu.edu alt.atheism:51...   \n",
              "4               4  Xref: cantaloupe.srv.cs.cmu.edu alt.atheism:51...   \n",
              "...           ...                                                ...   \n",
              "19992       19992  Xref: cantaloupe.srv.cs.cmu.edu alt.atheism:54...   \n",
              "19993       19993  Xref: cantaloupe.srv.cs.cmu.edu alt.atheism:54...   \n",
              "19994       19994  Xref: cantaloupe.srv.cs.cmu.edu talk.religion....   \n",
              "19995       19995  Xref: cantaloupe.srv.cs.cmu.edu talk.religion....   \n",
              "19996       19996  Xref: cantaloupe.srv.cs.cmu.edu talk.abortion:...   \n",
              "\n",
              "                   Labels  \n",
              "0             alt.atheism  \n",
              "1             alt.atheism  \n",
              "2             alt.atheism  \n",
              "3             alt.atheism  \n",
              "4             alt.atheism  \n",
              "...                   ...  \n",
              "19992  talk.religion.misc  \n",
              "19993  talk.religion.misc  \n",
              "19994  talk.religion.misc  \n",
              "19995  talk.religion.misc  \n",
              "19996  talk.religion.misc  \n",
              "\n",
              "[19997 rows x 3 columns]"
            ]
          },
          "execution_count": 6,
          "metadata": {},
          "output_type": "execute_result"
        }
      ],
      "source": [
        "data.drop_duplicates()"
      ]
    },
    {
      "cell_type": "code",
      "execution_count": null,
      "id": "6d7f9080-6261-479d-a945-e3cdea379577",
      "metadata": {
        "id": "6d7f9080-6261-479d-a945-e3cdea379577",
        "outputId": "ba0659a2-5933-4470-a0e3-481cf222c0ec"
      },
      "outputs": [
        {
          "data": {
            "text/plain": [
              "0        xref cantaloupesrvcscmuedu altatheism49960 alt...\n",
              "1        xref cantaloupesrvcscmuedu altatheism51060 alt...\n",
              "2        newsgroups altatheism path cantaloupesrvcscmue...\n",
              "3        xref cantaloupesrvcscmuedu altatheism51120 alt...\n",
              "4        xref cantaloupesrvcscmuedu altatheism51121 soc...\n",
              "                               ...                        \n",
              "19992    xref cantaloupesrvcscmuedu altatheism54482 tal...\n",
              "19993    xref cantaloupesrvcscmuedu altatheism54485 tal...\n",
              "19994    xref cantaloupesrvcscmuedu talkreligionmisc845...\n",
              "19995    xref cantaloupesrvcscmuedu talkreligionmisc845...\n",
              "19996    xref cantaloupesrvcscmuedu talkabortion121820 ...\n",
              "Name: cleaned_text, Length: 19997, dtype: object"
            ]
          },
          "execution_count": 7,
          "metadata": {},
          "output_type": "execute_result"
        }
      ],
      "source": [
        "import string\n",
        "from nltk.corpus import stopwords\n",
        "from nltk.tokenize import word_tokenize\n",
        "from sklearn.feature_extraction.text import TfidfVectorizer\n",
        "\n",
        "# Download NLTK data files (run this once)\n",
        "import nltk\n",
        "# nltk.download('punkt')\n",
        "# nltk.download('stopwords')\n",
        "\n",
        "# Function to clean text\n",
        "def preprocess_text(text):\n",
        "    text = text.lower()  # Convert to lowercase\n",
        "    text = text.translate(str.maketrans('', '', string.punctuation))  # Remove punctuation\n",
        "    tokens = word_tokenize(text)  # Tokenize the text\n",
        "    stop_words = set(stopwords.words('english'))  # Load stopwords\n",
        "    filtered_tokens = [word for word in tokens if word not in stop_words]  # Remove stopwords\n",
        "    return ' '.join(filtered_tokens)\n",
        "\n",
        "# Apply preprocessing\n",
        "data['cleaned_text'] = data['Data'].apply(preprocess_text)\n",
        "data['cleaned_text']"
      ]
    },
    {
      "cell_type": "code",
      "execution_count": null,
      "id": "83f56770-520d-4e95-831c-a65921e19dba",
      "metadata": {
        "id": "83f56770-520d-4e95-831c-a65921e19dba"
      },
      "outputs": [],
      "source": [
        "# TF-IDF Vectorization\n",
        "tfidf_vectorizer = TfidfVectorizer()\n",
        "x= tfidf_vectorizer.fit_transform(data['cleaned_text'])\n",
        "\n",
        "# The labels for classification\n",
        "y = data['Labels']\n"
      ]
    },
    {
      "cell_type": "markdown",
      "id": "d9141c97-f8f7-48a0-b547-8d6d887168d2",
      "metadata": {
        "id": "d9141c97-f8f7-48a0-b547-8d6d887168d2"
      },
      "source": [
        "2. Naive Bayes Model for Text Classification"
      ]
    },
    {
      "cell_type": "code",
      "execution_count": null,
      "id": "5446dc05-259d-46b9-9994-ba6ffc8753d2",
      "metadata": {
        "id": "5446dc05-259d-46b9-9994-ba6ffc8753d2",
        "outputId": "bea9d68a-fd27-4519-81bd-470d1605b615"
      },
      "outputs": [
        {
          "data": {
            "text/plain": [
              "(<15997x258828 sparse matrix of type '<class 'numpy.float64'>'\n",
              " \twith 2116539 stored elements in Compressed Sparse Row format>,\n",
              " 5748             comp.windows.x\n",
              " 1688              comp.graphics\n",
              " 8174            rec.motorcycles\n",
              " 10194          rec.sport.hockey\n",
              " 4667      comp.sys.mac.hardware\n",
              "                   ...          \n",
              " 11284                 sci.crypt\n",
              " 11964                 sci.crypt\n",
              " 5390             comp.windows.x\n",
              " 860                 alt.atheism\n",
              " 15795    soc.religion.christian\n",
              " Name: Labels, Length: 15997, dtype: object)"
            ]
          },
          "execution_count": 9,
          "metadata": {},
          "output_type": "execute_result"
        }
      ],
      "source": [
        "from sklearn.model_selection import train_test_split\n",
        "\n",
        "# Split the data into training and test sets\n",
        "x_train, x_test, y_train, y_test = train_test_split(x, y, test_size=0.2, random_state=42)\n",
        "x_train,y_train\n"
      ]
    },
    {
      "cell_type": "code",
      "execution_count": null,
      "id": "9275d8ef-abd2-4580-9540-c2803900f1a4",
      "metadata": {
        "id": "9275d8ef-abd2-4580-9540-c2803900f1a4",
        "outputId": "063121aa-1be9-43f4-ff30-eb74fefb12ae"
      },
      "outputs": [
        {
          "data": {
            "text/plain": [
              "array(['rec.sport.hockey', 'comp.sys.mac.hardware',\n",
              "       'comp.sys.ibm.pc.hardware', ..., 'rec.motorcycles',\n",
              "       'talk.politics.guns', 'comp.windows.x'], dtype='<U24')"
            ]
          },
          "execution_count": 10,
          "metadata": {},
          "output_type": "execute_result"
        }
      ],
      "source": [
        "\n",
        "from sklearn.naive_bayes import MultinomialNB\n",
        "from sklearn.metrics import accuracy_score, precision_score, recall_score, f1_score\n",
        "\n",
        "# Initialize the classifier\n",
        "nb_classifier = MultinomialNB()\n",
        "\n",
        "# Train the model\n",
        "nb_classifier.fit(x_train, y_train)\n",
        "\n",
        "# Make predictions\n",
        "y_pred = nb_classifier.predict(x_test)\n",
        "y_pred\n"
      ]
    },
    {
      "cell_type": "markdown",
      "id": "b48ec7e3-cc59-4ee0-8c9f-dbfac3a3a487",
      "metadata": {
        "id": "b48ec7e3-cc59-4ee0-8c9f-dbfac3a3a487"
      },
      "source": [
        "3. Sentiment Analysis"
      ]
    },
    {
      "cell_type": "code",
      "execution_count": null,
      "id": "abb2bbea-85c3-4916-ac80-4e4940816e14",
      "metadata": {
        "id": "abb2bbea-85c3-4916-ac80-4e4940816e14",
        "outputId": "20961b71-c648-4529-f361-bb2d22f7b07a"
      },
      "outputs": [
        {
          "name": "stdout",
          "output_type": "stream",
          "text": [
            "positive    14255\n",
            "negative     5724\n",
            "neutral        18\n",
            "Name: sentiment, dtype: int64\n"
          ]
        }
      ],
      "source": [
        "from textblob import TextBlob\n",
        "\n",
        "# Function to get sentiment\n",
        "def get_sentiment(text):\n",
        "    analysis = TextBlob(text)\n",
        "    if analysis.sentiment.polarity > 0:\n",
        "        return 'positive'\n",
        "    elif analysis.sentiment.polarity == 0:\n",
        "        return 'neutral'\n",
        "    else:\n",
        "        return 'negative'\n",
        "\n",
        "# Apply sentiment analysis\n",
        "data['sentiment'] = data['cleaned_text'].apply(get_sentiment)\n",
        "\n",
        "# Display sentiment distribution\n",
        "print(data['sentiment'].value_counts())\n"
      ]
    },
    {
      "cell_type": "markdown",
      "id": "384dffbd-ce74-464c-956e-781e8ea5c8e4",
      "metadata": {
        "id": "384dffbd-ce74-464c-956e-781e8ea5c8e4"
      },
      "source": [
        "4. Evaluation"
      ]
    },
    {
      "cell_type": "code",
      "execution_count": null,
      "id": "495b989e-c1a6-4903-9950-f7f7aebe90ca",
      "metadata": {
        "id": "495b989e-c1a6-4903-9950-f7f7aebe90ca",
        "outputId": "647856ae-863c-47e3-c3ed-45a59de1c633"
      },
      "outputs": [
        {
          "name": "stdout",
          "output_type": "stream",
          "text": [
            "                          precision    recall  f1-score   support\n",
            "\n",
            "             alt.atheism       0.72      0.79      0.75       173\n",
            "           comp.graphics       0.87      0.91      0.89       179\n",
            " comp.os.ms-windows.misc       0.93      0.88      0.91       226\n",
            "comp.sys.ibm.pc.hardware       0.85      0.86      0.85       204\n",
            "   comp.sys.mac.hardware       0.90      0.96      0.93       205\n",
            "          comp.windows.x       0.97      0.94      0.96       186\n",
            "            misc.forsale       0.91      0.78      0.84       190\n",
            "               rec.autos       0.92      0.94      0.93       203\n",
            "         rec.motorcycles       1.00      0.97      0.98       218\n",
            "      rec.sport.baseball       0.99      0.98      0.99       192\n",
            "        rec.sport.hockey       0.98      0.99      0.98       203\n",
            "               sci.crypt       0.90      0.98      0.94       200\n",
            "         sci.electronics       0.94      0.90      0.92       227\n",
            "                 sci.med       1.00      0.95      0.98       196\n",
            "               sci.space       0.97      0.97      0.97       205\n",
            "  soc.religion.christian       0.90      1.00      0.94       215\n",
            "      talk.politics.guns       0.85      0.91      0.88       205\n",
            "   talk.politics.mideast       0.92      0.94      0.93       197\n",
            "      talk.politics.misc       0.76      0.76      0.76       200\n",
            "      talk.religion.misc       0.60      0.48      0.53       176\n",
            "\n",
            "                accuracy                           0.90      4000\n",
            "               macro avg       0.89      0.89      0.89      4000\n",
            "            weighted avg       0.90      0.90      0.90      4000\n",
            "\n"
          ]
        }
      ],
      "source": [
        "# Calculate evaluation metrics\n",
        "from sklearn.metrics import classification_report\n",
        "print(classification_report(y_test,y_pred))\n"
      ]
    },
    {
      "cell_type": "markdown",
      "id": "36e8d23c-a29e-4e8c-bd5f-01cd442a2046",
      "metadata": {
        "id": "36e8d23c-a29e-4e8c-bd5f-01cd442a2046"
      },
      "source": [
        "In conclusion, the Naive Bayes classifier, with proper preprocessing and feature extraction, can effectively categorize blog posts. Performance evaluation using metrics such as accuracy, precision, recall, and F1-score provides a comprehensive view of the model’s effectiveness. Challenges such as class imbalance and text preprocessing need careful handling to ensure robust performance.\n",
        "\n",
        "Sentiment analysis adds another layer of understanding, revealing the emotional tone of the blog posts. These insights can be crucial for content strategy, reader engagement, and marketing efforts.\n",
        "\n",
        "By combining text classification with sentiment analysis, you gain a powerful toolkit for extracting and leveraging insights from textual data, enhancing both the analytical and strategic capabilities of your organization."
      ]
    }
  ],
  "metadata": {
    "colab": {
      "provenance": []
    },
    "kernelspec": {
      "display_name": "Python 3 (ipykernel)",
      "language": "python",
      "name": "python3"
    },
    "language_info": {
      "codemirror_mode": {
        "name": "ipython",
        "version": 3
      },
      "file_extension": ".py",
      "mimetype": "text/x-python",
      "name": "python",
      "nbconvert_exporter": "python",
      "pygments_lexer": "ipython3",
      "version": "3.11.7"
    }
  },
  "nbformat": 4,
  "nbformat_minor": 5
}