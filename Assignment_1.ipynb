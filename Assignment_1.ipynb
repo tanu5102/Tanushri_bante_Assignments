{
  "cells": [
    {
      "cell_type": "markdown",
      "id": "ac72d5af-6375-4a53-b518-b30245d3c7a1",
      "metadata": {
        "id": "ac72d5af-6375-4a53-b518-b30245d3c7a1"
      },
      "source": [
        "# Prime Numbers"
      ]
    },
    {
      "cell_type": "code",
      "execution_count": null,
      "id": "e8d0acd0-d10d-4488-8038-48b1fc2c8ebc",
      "metadata": {
        "id": "e8d0acd0-d10d-4488-8038-48b1fc2c8ebc",
        "outputId": "c85a43fb-7669-4bdc-ffd3-af21fa42da6d"
      },
      "outputs": [
        {
          "name": "stdin",
          "output_type": "stream",
          "text": [
            "Enter a number:  12\n"
          ]
        },
        {
          "name": "stdout",
          "output_type": "stream",
          "text": [
            "12 is not a prime number.\n"
          ]
        }
      ],
      "source": [
        "#Coding Exercises\n",
        "#Exercise 1: Prime Numbers.\n",
        "#Write a Python program that checks whether a given number is prime or not.\n",
        "#A prime number is a natural number greater than 1 that has no positive divisors other than 1 and itself.\n",
        "def is_prime(number):\n",
        "    if number <= 1:\n",
        "        return False\n",
        "    for i in range(2, int(number**0.5) + 1):\n",
        "        if number % i == 0:\n",
        "            return False\n",
        "    return True\n",
        "number = int(input(\"Enter a number: \"))\n",
        "if is_prime(number):\n",
        "    print(number, \"is a prime number.\")\n",
        "else:\n",
        "    print(number, \"is not a prime number.\")\n"
      ]
    },
    {
      "cell_type": "markdown",
      "id": "8103cee0-5cd8-48ab-b7da-a736a44f77a5",
      "metadata": {
        "id": "8103cee0-5cd8-48ab-b7da-a736a44f77a5"
      },
      "source": [
        "# Product of Random Numbers"
      ]
    },
    {
      "cell_type": "code",
      "execution_count": null,
      "id": "aa6c8397-0138-4866-9bf5-17074f8d693d",
      "metadata": {
        "colab": {
          "base_uri": "https://localhost:8080/"
        },
        "id": "aa6c8397-0138-4866-9bf5-17074f8d693d",
        "outputId": "9330e941-1b8c-4253-e352-51e5a3c74cbb"
      },
      "outputs": [
        {
          "output_type": "stream",
          "name": "stdout",
          "text": [
            "What is the product of 8 and 15 29\n",
            "Incorrect. The correct answerr is:  120\n"
          ]
        }
      ],
      "source": [
        "# Exercise 2: Product of Random Numbers.\n",
        "# Develop a Python program that generates two random numbers and asks the user to enter the product of these numbers.\n",
        "# The program should then check if the user's answer is correct and display an appropriate message.\n",
        "import random\n",
        "def generate_number():\n",
        "    num1 = random.randint(1,20)\n",
        "    num2 = random.randint(1,20)\n",
        "    return num1,num2\n",
        "def main():\n",
        "    num1,num2 = generate_number()\n",
        "    product = num1*num2\n",
        "    user_answer = int(input(f\"What is the product of {num1} and {num2} \"))\n",
        "    if user_answer == product:\n",
        "        print(\"Correct! Well Done\")\n",
        "    else:\n",
        "        print(\"Incorrect. The correct answerr is: \",product)\n",
        "main()"
      ]
    },
    {
      "cell_type": "markdown",
      "id": "32d05ee2-55b8-4d5e-a506-3344d31aa709",
      "metadata": {
        "id": "32d05ee2-55b8-4d5e-a506-3344d31aa709"
      },
      "source": [
        "# Squares of Even/Odd Numbers"
      ]
    },
    {
      "cell_type": "code",
      "execution_count": null,
      "id": "b0dd2666-768f-4c9f-b5d9-b43f1b6759c7",
      "metadata": {
        "id": "b0dd2666-768f-4c9f-b5d9-b43f1b6759c7",
        "outputId": "f27eb3f1-90b4-41e6-f225-5b9e42d41c50"
      },
      "outputs": [
        {
          "name": "stdout",
          "output_type": "stream",
          "text": [
            "Print the squares of all even numbers with in range of 100 to 200.\n",
            "10000\n",
            "10404\n",
            "10816\n",
            "11236\n",
            "11664\n",
            "12100\n",
            "12544\n",
            "12996\n",
            "13456\n",
            "13924\n",
            "14400\n",
            "14884\n",
            "15376\n",
            "15876\n",
            "16384\n",
            "16900\n",
            "17424\n",
            "17956\n",
            "18496\n",
            "19044\n",
            "19600\n",
            "20164\n",
            "20736\n",
            "21316\n",
            "21904\n",
            "22500\n",
            "23104\n",
            "23716\n",
            "24336\n",
            "24964\n",
            "25600\n",
            "26244\n",
            "26896\n",
            "27556\n",
            "28224\n",
            "28900\n",
            "29584\n",
            "30276\n",
            "30976\n",
            "31684\n",
            "32400\n",
            "33124\n",
            "33856\n",
            "34596\n",
            "35344\n",
            "36100\n",
            "36864\n",
            "37636\n",
            "38416\n",
            "39204\n"
          ]
        }
      ],
      "source": [
        "# Exercise 3: Squares of Even/Odd Numbers.\n",
        "# Create a Python script that prints the squares of all even or odd numbers within the range of 100 to 200.\n",
        "# Choose either even or odd numbers and document your choice in the code\n",
        "print(\"Print the squares of all even numbers with in range of 100 to 200.\")\n",
        "for i in range(100,200,2):\n",
        "    print(i**2)"
      ]
    },
    {
      "cell_type": "markdown",
      "id": "fd31467f-de4a-4ca6-a8e2-82dbb18b31a2",
      "metadata": {
        "id": "fd31467f-de4a-4ca6-a8e2-82dbb18b31a2"
      },
      "source": [
        "# Word counter"
      ]
    },
    {
      "cell_type": "code",
      "execution_count": null,
      "id": "f0004446-7329-40ee-8c22-a921e4302bbe",
      "metadata": {
        "colab": {
          "base_uri": "https://localhost:8080/"
        },
        "id": "f0004446-7329-40ee-8c22-a921e4302bbe",
        "outputId": "ccf29317-beca-4c4f-97a5-15ab0fad20e8"
      },
      "outputs": [
        {
          "output_type": "stream",
          "name": "stdout",
          "text": [
            "'this':2\n",
            "'is':1\n",
            "'a':1\n",
            "'sample':1\n",
            "'text':2\n",
            "'will':1\n",
            "'be':1\n",
            "'used':1\n",
            "'to':1\n",
            "'demonstrate':1\n",
            "'the':1\n",
            "'word':1\n",
            "'counter':1\n"
          ]
        }
      ],
      "source": [
        "# Exercise 4: Word counter\n",
        "# write a program to count the number of words in a given text.\n",
        "# example:\n",
        "# input_text = \"This is a sample text. This text will be used to demonstrate the word counter.\"\n",
        "# Expected output:\n",
        "# 'This': 2\n",
        "# 'is': 1\n",
        "# 'a': 1\n",
        "# 'sample': 1\n",
        "# 'text.': 1\n",
        "def word_counter(input_text):\n",
        "    words = input_text.split()\n",
        "    word_count = {}\n",
        "    for word in words:\n",
        "        word = word.strip(\".,\\/!?&\")\n",
        "        word = word.lower()\n",
        "        word_count[word] = word_count.get(word,0)+1\n",
        "    for word,count in word_count.items():\n",
        "        print(f\"'{word}':{count}\")\n",
        "input_text = \"This is a sample text. This text will be used to demonstrate the word counter.\"\n",
        "word_counter(input_text)"
      ]
    },
    {
      "cell_type": "markdown",
      "id": "93206356-8988-4002-98b7-ba3805e5ed1d",
      "metadata": {
        "id": "93206356-8988-4002-98b7-ba3805e5ed1d"
      },
      "source": [
        "# Check for Palindrome"
      ]
    },
    {
      "cell_type": "code",
      "execution_count": null,
      "id": "87221e13-2908-4e0f-8440-77cc5671728f",
      "metadata": {
        "colab": {
          "base_uri": "https://localhost:8080/"
        },
        "id": "87221e13-2908-4e0f-8440-77cc5671728f",
        "outputId": "06e6fef1-2b02-420e-809d-694f7f67cb40"
      },
      "outputs": [
        {
          "output_type": "stream",
          "name": "stdout",
          "text": [
            "Enter a word :racecar\n",
            "True\n"
          ]
        }
      ],
      "source": [
        "# Exercise 5: Check for Palindrome\n",
        "# Write a Python function called is_palindrome that takes a string as input and returns True if the string is a palindrome,\n",
        "# and False otherwise. A palindrome is a word, phrase, number, or other sequence of characters that reads the same forward and backward, ignoring spaces, punctuation, and capitalization.\n",
        "# Example:\n",
        "# Input: \"racecar\"\n",
        "# Expected Output: Truestring = input(\"Enter a string: \")\n",
        "def is_Palindrome(s):\n",
        "    return s == s[::-1]\n",
        "s = input(\"Enter a word :\")\n",
        "ans = is_Palindrome(s)\n",
        "if ans:\n",
        "    print(\"True\")\n",
        "else:\n",
        "    print(\"False\")"
      ]
    },
    {
      "cell_type": "markdown",
      "source": [
        "# New Section"
      ],
      "metadata": {
        "id": "zq6F9EBJbBvG"
      },
      "id": "zq6F9EBJbBvG"
    },
    {
      "cell_type": "code",
      "source": [],
      "metadata": {
        "id": "o6aF7lDgaetN"
      },
      "id": "o6aF7lDgaetN",
      "execution_count": null,
      "outputs": []
    }
  ],
  "metadata": {
    "kernelspec": {
      "display_name": "Python 3 (ipykernel)",
      "language": "python",
      "name": "python3"
    },
    "language_info": {
      "codemirror_mode": {
        "name": "ipython",
        "version": 3
      },
      "file_extension": ".py",
      "mimetype": "text/x-python",
      "name": "python",
      "nbconvert_exporter": "python",
      "pygments_lexer": "ipython3",
      "version": "3.11.7"
    },
    "colab": {
      "provenance": []
    }
  },
  "nbformat": 4,
  "nbformat_minor": 5
}